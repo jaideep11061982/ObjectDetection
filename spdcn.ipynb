{
  "nbformat": 4,
  "nbformat_minor": 0,
  "metadata": {
    "colab": {
      "provenance": [],
      "mount_file_id": "1uYJrrRbw6NEYnDfHUaWXT4wCw61Yj8i5",
      "authorship_tag": "ABX9TyPCGcLjPcqnodgD66q017Tt",
      "include_colab_link": true
    },
    "kernelspec": {
      "name": "python3",
      "display_name": "Python 3"
    },
    "language_info": {
      "name": "python"
    },
    "accelerator": "GPU",
    "gpuClass": "standard"
  },
  "cells": [
    {
      "cell_type": "markdown",
      "metadata": {
        "id": "view-in-github",
        "colab_type": "text"
      },
      "source": [
        "<a href=\"https://colab.research.google.com/github/jaideep11061982/ObjectDetection/blob/master/spdcn.ipynb\" target=\"_parent\"><img src=\"https://colab.research.google.com/assets/colab-badge.svg\" alt=\"Open In Colab\"/></a>"
      ]
    },
    {
      "cell_type": "code",
      "execution_count": null,
      "metadata": {
        "colab": {
          "base_uri": "https://localhost:8080/"
        },
        "id": "LIX76IQcbyiV",
        "outputId": "fa148774-b5ee-4143-f1d7-55846e0f41f0"
      },
      "outputs": [
        {
          "output_type": "stream",
          "name": "stdout",
          "text": [
            "Cloning into 'SPDCN-CAC'...\n",
            "remote: Enumerating objects: 63, done.\u001b[K\n",
            "remote: Counting objects: 100% (63/63), done.\u001b[K\n",
            "remote: Compressing objects: 100% (58/58), done.\u001b[K\n",
            "remote: Total 63 (delta 11), reused 39 (delta 0), pack-reused 0\u001b[K\n",
            "Unpacking objects: 100% (63/63), 280.76 KiB | 9.36 MiB/s, done.\n"
          ]
        }
      ],
      "source": [
        "!git clone https://github.com/Elin24/SPDCN-CAC.git"
      ]
    },
    {
      "cell_type": "code",
      "source": [
        "!wget https://portland-my.sharepoint.com/personal/wlin38-c_my_cityu_edu_hk/_layouts/15/onedrive.aspx?ga=1&id=%2Fpersonal%2Fwlin38%2Dc%5Fmy%5Fcityu%5Fedu%5Fhk%2FDocuments%2Fpublic%2Fbmvc%2D22%2Fckpt%5Fepoch%5Fbest%2Epth&parent=%2Fpersonal%2Fwlin38%2Dc%5Fmy%5Fcityu%5Fedu%5Fhk%2FDocuments%2Fpublic%2Fbmvc%2D22&p=14"
      ],
      "metadata": {
        "colab": {
          "base_uri": "https://localhost:8080/"
        },
        "id": "0rljqWQ7c40B",
        "outputId": "e5d0c52b-9435-42f3-d3ca-02b9bbc167f7"
      },
      "execution_count": null,
      "outputs": [
        {
          "output_type": "stream",
          "name": "stdout",
          "text": [
            "--2023-02-22 14:07:47--  https://portland-my.sharepoint.com/personal/wlin38-c_my_cityu_edu_hk/_layouts/15/onedrive.aspx?ga=1\n",
            "Resolving portland-my.sharepoint.com (portland-my.sharepoint.com)... 13.107.136.8, 13.107.138.8, 2620:1ec:8f8::8, ...\n",
            "Connecting to portland-my.sharepoint.com (portland-my.sharepoint.com)|13.107.136.8|:443... connected.\n",
            "HTTP request sent, awaiting response... 403 Forbidden\n",
            "2023-02-22 14:07:48 ERROR 403: Forbidden.\n",
            "\n"
          ]
        }
      ]
    },
    {
      "cell_type": "code",
      "source": [
        "import os \n",
        "os.sys.path.append('SPDCN-CAC')\n",
        "#%cd /content/SPDCN-CAC"
      ],
      "metadata": {
        "id": "y-0iK42Qn_32"
      },
      "execution_count": null,
      "outputs": []
    },
    {
      "cell_type": "code",
      "source": [
        "tase"
      ],
      "metadata": {
        "id": "Ox08tUBvpBSv"
      },
      "execution_count": null,
      "outputs": []
    },
    {
      "cell_type": "code",
      "source": [
        "\n",
        "#from SPDCN-CAC import *\n",
        "from matplotlib import pyplot as plt\n",
        "import cv2\n",
        "from PIL import Image\n",
        "import numpy as np\n",
        "import torch\n",
        "from datasets.utils import NormalSample, jpg2id"
      ],
      "metadata": {
        "id": "_j__fCdle0zF"
      },
      "execution_count": null,
      "outputs": []
    },
    {
      "cell_type": "code",
      "source": [
        "boxes= [[[ 143,266  ],[ 143,317  ],[ 216,317  ],  [  216,  266  ]  ],\n",
        "            [   [     297,   66  ], [   297, 86  ], [ 343,  86  ], [ 343,  66 ]  ]]\n",
        "nboxes.shape"
      ],
      "metadata": {
        "colab": {
          "base_uri": "https://localhost:8080/"
        },
        "id": "rJcYzNtmvMOQ",
        "outputId": "42a3b36e-f4b5-4dbe-972d-7431937e13d8"
      },
      "execution_count": null,
      "outputs": [
        {
          "output_type": "execute_result",
          "data": {
            "text/plain": [
              "(2, 4)"
            ]
          },
          "metadata": {},
          "execution_count": 42
        }
      ]
    },
    {
      "cell_type": "code",
      "source": [
        "nboxes = np.array(boxes, dtype='float32') # ((w1, h1), (w1, h2), (w2, h2), (w2, h1)) # N 4 2\n",
        "print(nboxes)\n",
        "nboxes[:, :, 0] = nboxes[:, :, 0]  \n",
        "nboxes[:, :, 1] = nboxes[:, :, 1]  \n",
        "print(nboxes[:,:,1] ,nboxes[:,:,0])\n",
        "box_lt = nboxes[:, 0, :]\n",
        "##print(box_lt)\n",
        "box_rb = nboxes[:, 2, :]\n",
        "#print(box_rb)\n",
        "nboxes = np.stack((box_lt, box_rb), axis=1)\n",
        "print(nboxes.shape)\n",
        "resize_boxes = nboxes.tolist()\n",
        "resize_boxes[0],resize_boxes[1]"
      ],
      "metadata": {
        "colab": {
          "base_uri": "https://localhost:8080/"
        },
        "id": "aXS06pwsvCwP",
        "outputId": "f94a8955-7d5c-44ec-dc3a-666a1ad2104a"
      },
      "execution_count": null,
      "outputs": [
        {
          "output_type": "stream",
          "name": "stdout",
          "text": [
            "[[[143. 266.]\n",
            "  [143. 317.]\n",
            "  [216. 317.]\n",
            "  [216. 266.]]\n",
            "\n",
            " [[297.  66.]\n",
            "  [297.  86.]\n",
            "  [343.  86.]\n",
            "  [343.  66.]]]\n",
            "[[266. 317. 317. 266.]\n",
            " [ 66.  86.  86.  66.]] [[143. 143. 216. 216.]\n",
            " [297. 297. 343. 343.]]\n",
            "(2, 2, 2)\n"
          ]
        },
        {
          "output_type": "execute_result",
          "data": {
            "text/plain": [
              "([[143.0, 266.0], [216.0, 317.0]], [[297.0, 66.0], [343.0, 86.0]])"
            ]
          },
          "metadata": {},
          "execution_count": 43
        }
      ]
    },
    {
      "cell_type": "code",
      "source": [
        "boxes = np.array([[   0,  817,  107, 2011],\n",
        "       [ 174,  929, 1563, 2141]])\n",
        "boxes[:,0]=boxes[:,0]*rw\n",
        "boxes[:,2]=boxes[:,2]*rw\n",
        "\n",
        "boxes[:,1]=boxes[:,1]*rh\n",
        "boxes[:,3]=boxes[:,3]*rh"
      ],
      "metadata": {
        "colab": {
          "base_uri": "https://localhost:8080/"
        },
        "id": "wxmINdUu68QR",
        "outputId": "2ed0cbdb-2363-4683-a298-239825ce5bed"
      },
      "execution_count": null,
      "outputs": [
        {
          "output_type": "execute_result",
          "data": {
            "text/plain": [
              "array([  0, 174])"
            ]
          },
          "metadata": {},
          "execution_count": 40
        }
      ]
    },
    {
      "cell_type": "code",
      "source": [
        "def spdcn_conversion(path,can_h=384,can_w=576):\n",
        "    #imid = os.path.splitext(jpg)[0]\n",
        "    imid=path.split('/').split('.')[0]\n",
        "    print(imid)\n",
        "    img = cv2.imread(path)\n",
        "    H, W, _ = img.shape\n",
        "    nH, nW = min(int(round(H / 16) * 16), can_h), min(int(round(W / 16) * 16), can_w)\n",
        "    rh, rw = nH / H, nW / W\n",
        "    ph, pw = (can_h - nH) // 2, (can_w - nW) // 2\n",
        "\n",
        "    # resize image\n",
        "    img = cv2.resize(img, (nW, nH), interpolation = cv2.INTER_AREA)\n",
        "    canvas = np.zeros((can_h, can_w, 3), dtype='uint8')\n",
        "    canvas[ph:ph+nH, pw:pw+nW, :] = img\n",
        "    \n",
        "    imgpath = os.path.join(root, imgdir, f'{imid}.jpg')\n",
        "    cv2.imwrite(imgpath, canvas)\n",
        "    #print(img.shape, H, W)\n",
        "\n",
        "    # resize box\n",
        "    boxes = np.array([[   0,  817,  107, 2011],\n",
        "       [ 174,  929, 1563, 2141]])\n",
        "    nboxes = np.array(boxes, dtype='float32') # ((w1, h1), (w1, h2), (w2, h2), (w2, h1)) # N 4 2\n",
        "    #nboxes[:, :, 0] = nboxes[:, :, 0] * rw + pw\n",
        "    #nboxes[:, :, 1] = nboxes[:, :, 1] * rh + ph\n",
        "    nboxes[:,   0] = nboxes[:, :, 0] * rw + pw\n",
        "    nboxes[:,  2] = nboxes[:, :,2] * rw + pw\n",
        "    nboxes[:,  1] = nboxes[:, :, 1] * rh + ph\n",
        "    nboxes[:,  3] = nboxes[:, :, 1] * rh + ph\n",
        "    box_lt = nboxes[:, 0 ]\n",
        "    box_rb = nboxes[:, 2, :]\n",
        "    nboxes = np.stack((box_lt, box_rb), axis=1)\n",
        "    resize_boxes = nboxes.tolist()\n",
        "    \n",
        "    # relocate point\n",
        "    #pots = label['points'] \n",
        "    #npots = np.array(pots)\n",
        "    #npots[:, 0] = npots[:, 0] * rw + pw\n",
        "    #npots[:, 1] = npots[:, 1] * rh + ph\n",
        "    #resize_pots = npots.tolist()\n",
        "    \n",
        "    # write info into label\n",
        "    info[imid] = dict(\n",
        "        imagepath = os.path.join(imgdir, f'{imid}.jpg'),\n",
        "        points = resize_pots,\n",
        "        boxes = resize_boxes,\n",
        "        category = cates[imid]\n",
        "    )"
      ],
      "metadata": {
        "id": "f-jlUv6-rjkz"
      },
      "execution_count": null,
      "outputs": []
    },
    {
      "cell_type": "code",
      "source": [
        "img=Image.open('IMG_20221123_162507791.jpg')\n",
        "w, h = img.size\n",
        "#img=torch.tensor(np.asarray(img)).permute(2,0,1)\n",
        "#dotmap = np.zeros((1, h, w), dtype=np.float32)\n",
        "image = NormalSample()(img)\n"
      ],
      "metadata": {
        "id": "VjFQg3M6l8Z1"
      },
      "execution_count": null,
      "outputs": []
    },
    {
      "cell_type": "code",
      "source": [
        "import  torch.nn.functional as F\n",
        "image=F.resize(image,)"
      ],
      "metadata": {
        "id": "vKUF8e_pqbQe"
      },
      "execution_count": null,
      "outputs": []
    },
    {
      "cell_type": "code",
      "source": [
        "!pip install mmcv"
      ],
      "metadata": {
        "colab": {
          "base_uri": "https://localhost:8080/"
        },
        "id": "UCamBqt3ofpn",
        "outputId": "2cce88ed-6fa4-465f-c50e-61d1b1d2bedb"
      },
      "execution_count": null,
      "outputs": [
        {
          "output_type": "stream",
          "name": "stdout",
          "text": [
            "Looking in indexes: https://pypi.org/simple, https://us-python.pkg.dev/colab-wheels/public/simple/\n",
            "Collecting mmcv\n",
            "  Downloading mmcv-1.7.1.tar.gz (605 kB)\n",
            "\u001b[?25l     \u001b[90m━━━━━━━━━━━━━━━━━━━━━━━━━━━━━━━━━━━━━━━━\u001b[0m \u001b[32m0.0/605.4 KB\u001b[0m \u001b[31m?\u001b[0m eta \u001b[36m-:--:--\u001b[0m\r\u001b[2K     \u001b[90m━━━━━━━━━━━━━━━━━━━━━━━━━━━━━━━━━━━━━━\u001b[0m \u001b[32m605.4/605.4 KB\u001b[0m \u001b[31m43.5 MB/s\u001b[0m eta \u001b[36m0:00:00\u001b[0m\n",
            "\u001b[?25h  Preparing metadata (setup.py) ... \u001b[?25l\u001b[?25hdone\n",
            "Collecting addict\n",
            "  Downloading addict-2.4.0-py3-none-any.whl (3.8 kB)\n",
            "Requirement already satisfied: numpy in /usr/local/lib/python3.8/dist-packages (from mmcv) (1.21.6)\n",
            "Requirement already satisfied: packaging in /usr/local/lib/python3.8/dist-packages (from mmcv) (23.0)\n",
            "Requirement already satisfied: Pillow in /usr/local/lib/python3.8/dist-packages (from mmcv) (7.1.2)\n",
            "Requirement already satisfied: pyyaml in /usr/local/lib/python3.8/dist-packages (from mmcv) (6.0)\n",
            "Collecting yapf\n",
            "  Downloading yapf-0.32.0-py2.py3-none-any.whl (190 kB)\n",
            "\u001b[2K     \u001b[90m━━━━━━━━━━━━━━━━━━━━━━━━━━━━━━━━━━━━━━\u001b[0m \u001b[32m190.2/190.2 KB\u001b[0m \u001b[31m21.9 MB/s\u001b[0m eta \u001b[36m0:00:00\u001b[0m\n",
            "\u001b[?25hBuilding wheels for collected packages: mmcv\n",
            "  Building wheel for mmcv (setup.py) ... \u001b[?25l\u001b[?25hdone\n",
            "  Created wheel for mmcv: filename=mmcv-1.7.1-py2.py3-none-any.whl size=930735 sha256=8f8a24f31f35730181bd63b11b472ddadfd71e50f39186cabe9c47f46a5bc41c\n",
            "  Stored in directory: /root/.cache/pip/wheels/74/0c/f4/cafa17bca99a907f0ea624325aec45e905dd44884a47eae0bf\n",
            "Successfully built mmcv\n",
            "Installing collected packages: yapf, addict, mmcv\n",
            "Successfully installed addict-2.4.0 mmcv-1.7.1 yapf-0.32.0\n"
          ]
        }
      ]
    },
    {
      "cell_type": "code",
      "source": [
        "from models import build_model"
      ],
      "metadata": {
        "colab": {
          "base_uri": "https://localhost:8080/",
          "height": 305
        },
        "id": "WR5pIRxsoc6s",
        "outputId": "69e24697-bdbd-4583-f896-bb81796fe5d8"
      },
      "execution_count": null,
      "outputs": [
        {
          "output_type": "error",
          "ename": "ModuleNotFoundError",
          "evalue": "ignored",
          "traceback": [
            "\u001b[0;31m---------------------------------------------------------------------------\u001b[0m",
            "\u001b[0;31mModuleNotFoundError\u001b[0m                       Traceback (most recent call last)",
            "\u001b[0;32m<ipython-input-1-97e650bf473f>\u001b[0m in \u001b[0;36m<module>\u001b[0;34m\u001b[0m\n\u001b[0;32m----> 1\u001b[0;31m \u001b[0;32mfrom\u001b[0m \u001b[0mmodels\u001b[0m \u001b[0;32mimport\u001b[0m \u001b[0mbuild_model\u001b[0m\u001b[0;34m\u001b[0m\u001b[0;34m\u001b[0m\u001b[0m\n\u001b[0m",
            "\u001b[0;31mModuleNotFoundError\u001b[0m: No module named 'models'",
            "",
            "\u001b[0;31m---------------------------------------------------------------------------\u001b[0;32m\nNOTE: If your import is failing due to a missing package, you can\nmanually install dependencies using either !pip or !apt.\n\nTo view examples of installing some common dependencies, click the\n\"Open Examples\" button below.\n\u001b[0;31m---------------------------------------------------------------------------\u001b[0m\n"
          ],
          "errorDetails": {
            "actions": [
              {
                "action": "open_url",
                "actionText": "Open Examples",
                "url": "/notebooks/snippets/importing_libraries.ipynb"
              }
            ]
          }
        }
      ]
    },
    {
      "cell_type": "code",
      "source": [
        "from models import build_model\n",
        " \n",
        "model.load_state_dict(checkpoint['model'], strict=False)\n",
        "\n",
        "output = model(images, boxes)\n",
        "output = F.relu(output, inplace=True)\n",
        "output = output /128"
      ],
      "metadata": {
        "id": "Hm6a_aCvdvdo"
      },
      "execution_count": null,
      "outputs": []
    },
    {
      "cell_type": "code",
      "source": [
        "import pickle as pkl\n",
        "f=open('/content/image_id_boxes_dict.pkl','rb')\n",
        "img_dict=pkl.load(f)"
      ],
      "metadata": {
        "id": "QPkCmLJ_feHt"
      },
      "execution_count": null,
      "outputs": []
    },
    {
      "cell_type": "code",
      "source": [
        "img_dict['IMG_20221123_162507791'][0:2]"
      ],
      "metadata": {
        "colab": {
          "base_uri": "https://localhost:8080/"
        },
        "id": "jZo3lQxpleu4",
        "outputId": "88965833-74d9-4104-cb3a-2b3db2931e36"
      },
      "execution_count": null,
      "outputs": [
        {
          "output_type": "execute_result",
          "data": {
            "text/plain": [
              "array([[   0,  817,  107, 2011],\n",
              "       [ 174,  929, 1563, 2141]])"
            ]
          },
          "metadata": {},
          "execution_count": 31
        }
      ]
    }
  ]
}